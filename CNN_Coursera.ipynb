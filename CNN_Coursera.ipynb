{
  "nbformat": 4,
  "nbformat_minor": 0,
  "metadata": {
    "colab": {
      "name": "CNN Coursera",
      "provenance": [],
      "collapsed_sections": [],
      "include_colab_link": true
    },
    "kernelspec": {
      "name": "python3",
      "display_name": "Python 3"
    }
  },
  "cells": [
    {
      "cell_type": "markdown",
      "metadata": {
        "id": "view-in-github",
        "colab_type": "text"
      },
      "source": [
        "<a href=\"https://colab.research.google.com/github/manu-96/CNN/blob/main/CNN_Coursera.ipynb\" target=\"_parent\"><img src=\"https://colab.research.google.com/assets/colab-badge.svg\" alt=\"Open In Colab\"/></a>"
      ]
    },
    {
      "cell_type": "code",
      "metadata": {
        "id": "uWqQjLvwfU9S",
        "outputId": "8dd424a0-fd6f-4181-c5aa-1d5e139001e0",
        "colab": {
          "base_uri": "https://localhost:8080/"
        }
      },
      "source": [
        "import tensorflow as tf\n",
        "import os\n",
        "import numpy as np\n",
        "\n",
        "from matplotlib import pyplot as plt\n",
        "%matplotlib inline\n",
        "\n",
        "if not os.path.isdir('models'):\n",
        "    os.mkdir('models')\n",
        "    \n",
        "print('TensorFlow version:', tf.__version__)\n",
        "print('Is using GPU?', tf.test.is_gpu_available())"
      ],
      "execution_count": null,
      "outputs": [
        {
          "output_type": "stream",
          "text": [
            "TensorFlow version: 2.3.0\n",
            "WARNING:tensorflow:From <ipython-input-6-baeee846c934>:12: is_gpu_available (from tensorflow.python.framework.test_util) is deprecated and will be removed in a future version.\n",
            "Instructions for updating:\n",
            "Use `tf.config.list_physical_devices('GPU')` instead.\n",
            "Is using GPU? False\n"
          ],
          "name": "stdout"
        }
      ]
    },
    {
      "cell_type": "markdown",
      "metadata": {
        "id": "VTZkg4mwf6Fa"
      },
      "source": [
        "**2 PROCESS DATA**\n"
      ]
    },
    {
      "cell_type": "markdown",
      "metadata": {
        "id": "-mxMDrJ2fQKq"
      },
      "source": [
        " **visualize examples**"
      ]
    },
    {
      "cell_type": "code",
      "metadata": {
        "id": "dxYjGnkNgGa9"
      },
      "source": [
        "import tensorflow as tf\n",
        "import os\n",
        "import numpy as np\n",
        "\n",
        "from matplotlib import pyplot as plt\n",
        "%matplotlib inline\n",
        "\n",
        "def get_three_classes(x, y):\n",
        "    indices_0, _ = np.where(y == 0.)\n",
        "    indices_1, _ = np.where(y == 1.)\n",
        "    indices_2, _ = np.where(y == 2.)\n",
        "\n",
        "    indices = np.concatenate([indices_0, indices_1, indices_2], axis=0)\n",
        "    \n",
        "    x = x[indices]\n",
        "    y = y[indices]\n",
        "    \n",
        "    count = x.shape[0]\n",
        "    indices = np.random.choice(range(count), count, replace=False)\n",
        "    \n",
        "    x = x[indices]\n",
        "    y = y[indices]\n",
        "    \n",
        "    y = tf.keras.utils.to_categorical(y)\n",
        "    \n",
        "    return x, y"
      ],
      "execution_count": null,
      "outputs": []
    },
    {
      "cell_type": "code",
      "metadata": {
        "id": "gADwFCRo9pNR",
        "outputId": "4fa33a59-d4e0-4d35-e521-fc434da0750d",
        "colab": {
          "base_uri": "https://localhost:8080/"
        }
      },
      "source": [
        "(x_train, y_train), (x_test, y_test) = tf.keras.datasets.cifar10.load_data()\n",
        "\n",
        "x_train, y_train = get_three_classes(x_train, y_train)\n",
        "\n",
        "x_test, y_test = get_three_classes(x_test, y_test)\n",
        "\n",
        "\n",
        "print(x_train.shape, y_train.shape)\n",
        "\n",
        "print(x_test.shape, y_test.shape)"
      ],
      "execution_count": null,
      "outputs": [
        {
          "output_type": "stream",
          "text": [
            "Downloading data from https://www.cs.toronto.edu/~kriz/cifar-10-python.tar.gz\n",
            "170500096/170498071 [==============================] - 2s 0us/step\n",
            "(15000, 32, 32, 3) (15000, 3)\n",
            "(3000, 32, 32, 3) (3000, 3)\n"
          ],
          "name": "stdout"
        }
      ]
    },
    {
      "cell_type": "code",
      "metadata": {
        "id": "12Nng3C4zSsg",
        "outputId": "e639c7f0-38f4-42ae-8fc9-445df8f555d2",
        "colab": {
          "base_uri": "https://localhost:8080/",
          "height": 323
        }
      },
      "source": [
        "import tensorflow as tf\n",
        "import os\n",
        "import numpy as np\n",
        "\n",
        "from matplotlib import pyplot as plt\n",
        "%matplotlib inline\n",
        "\n",
        "(x_train, y_train), (x_test, y_test) = tf.keras.datasets.cifar10.load_data()\n",
        "\n",
        "print(x_train.shape, y_train.shape)\n",
        "\n",
        "print(x_test.shape, y_test.shape)\n",
        "\n",
        "\n",
        "class_names = ['aeroplane', 'car' , 'bird']\n",
        "def show_random_examples(x, y, p):\n",
        "  indices = np.random.choice(range(x.shape[0]), 10, replace = False)\n",
        "\n",
        "  x = x[indices]\n",
        "  y = y[indices]\n",
        "  p = p[indices] \n",
        "\n",
        "  plt.figure(figsize = (10, 5))\n",
        "  for i in range (10):\n",
        "    plt.subplot(2, 5, 1 + i)\n",
        "    plt.imshow(x[i])\n",
        "    plt.xticks([])\n",
        "    plt.yticks([])\n",
        "    col = 'green' if np.argmax(y[i]) == np.argmax(p[i]) else 'red'\n",
        "    plt.xlabel(class_names[np.argmax(p[i])], color = col)\n",
        "  plt.show()\n",
        "\n",
        "\n",
        "show_random_examples(x_train, y_train, y_train)    \n"
      ],
      "execution_count": null,
      "outputs": [
        {
          "output_type": "stream",
          "text": [
            "(50000, 32, 32, 3) (50000, 1)\n",
            "(10000, 32, 32, 3) (10000, 1)\n"
          ],
          "name": "stdout"
        },
        {
          "output_type": "display_data",
          "data": {
            "image/png": "[encoded data removed]",
            "text/plain": [
              "<Figure size 720x360 with 10 Axes>"
            ]
          },
          "metadata": {
            "tags": []
          }
        }
      ]
    },
    {
      "cell_type": "markdown",
      "metadata": {
        "id": "xY75SG4gfaPi"
      },
      "source": [
        "**CREATE MODEL**"
      ]
    },
    {
      "cell_type": "code",
      "metadata": {
        "id": "q6-8RGcmfhQB",
        "outputId": "c1d66df6-80d4-4863-87ea-b05715b8cad7",
        "colab": {
          "base_uri": "https://localhost:8080/",
          "height": 129
        }
      },
      "source": [
        "import tensorflow as tf\n",
        "import os\n",
        "import numpy as np\n",
        "\n",
        "from matplotlib import pyplot as plt\n",
        "%matplotlib inline\n",
        "\n",
        "from tensorflow.keras.layers import Conv2D, MaxPooling2D, BatchNormalization\n",
        "from tensorflow.keras.layers import Dropout, Flatten, Dense, Input\n",
        "\n",
        "def create_model():\n",
        "  def add_conv_block(model, num_filters):\n",
        "    model.add(Conv2D(num_filters, 3, activation='relu', padding='same'))\n",
        "    model.add(BatchNormalization())\n",
        "    model.add(Conv2D(num_filters, 3, activation='relu'))\n",
        "    model.add(MaxPooling2D(pool_size=2))\n",
        "    model.add(Dropout(0.5))\n",
        "    return model\n",
        "\n",
        "  model = tf.keras.models.Sequential()\n",
        "  model.add(Input(shape = (32, 32, 3)))\n",
        "  model = add_conv_block(model, 32)\n",
        "  model = add_conv_block(model, 64)\n",
        "  model = add_conv_block(model, 128)\n",
        "  model.add(Flatten())\n",
        "  model.add(Dense(3, activation = 'softmax'))\n",
        "  model.compile(\n",
        "      loss = 'categorical_crossentropy',\n",
        "      optimizer = 'adam', metrics = ['accuracy']\n",
        "  )  \n",
        "\n",
        "  return model\n",
        "\n",
        "model = create_model()\n",
        "model.summary()  \n",
        "\n",
        "\n",
        " h = model.fit(\n",
        "     x_train/255., y_train,\n",
        "     validation_data = (x_test/255., y_test),\n",
        "     epochs = 10, batch_size = 128,\n",
        "     callbacks = [\n",
        "                  tf.keras.callbacks.EarlyStopping(monitor='val_accuracy', patience=3),\n",
        "                  tf.keras.callbacks.ModelCheckpoint(\n",
        "                      'models/model_{val_accuracy:.3f}.h5',\n",
        "                      save_best_only= True, save_weights_only = False,\n",
        "                      monitor ='val_accuracy'\n",
        "                  )\n",
        "                  ]\n",
        " )\n"
      ],
      "execution_count": null,
      "outputs": [
        {
          "output_type": "error",
          "ename": "IndentationError",
          "evalue": "ignored",
          "traceback": [
            "\u001b[0;36m  File \u001b[0;32m\"<ipython-input-5-f5156b551faa>\"\u001b[0;36m, line \u001b[0;32m38\u001b[0m\n\u001b[0;31m    h = model.fit(\u001b[0m\n\u001b[0m    ^\u001b[0m\n\u001b[0;31mIndentationError\u001b[0m\u001b[0;31m:\u001b[0m unexpected indent\n"
          ]
        }
      ]
    },
    {
      "cell_type": "markdown",
      "metadata": {
        "id": "rFCHWIRWt3wX"
      },
      "source": [
        "**TRAINING**"
      ]
    },
    {
      "cell_type": "code",
      "metadata": {
        "id": "mVoabFC0t7tO",
        "outputId": "ebce412d-d46d-40a8-f88e-afd40ccdadcc",
        "colab": {
          "base_uri": "https://localhost:8080/",
          "height": 231
        }
      },
      "source": [
        " import tensorflow as tf\n",
        "import os\n",
        "import numpy as np\n",
        "\n",
        "from matplotlib import pyplot as plt\n",
        "%matplotlib inline\n",
        "\n",
        "\n",
        "(x_train, y_train), (x_test, y_test) = tf.keras.datasets.cifar10.load_data()\n",
        " \n",
        " h = model.fit(\n",
        "     x_train/255., y_train,\n",
        "     validation_data = (x_test/255., y_test),\n",
        "     epochs = 10, batch_size = 128,\n",
        "     callbacks = [\n",
        "                  tf.keras.callbacks.EarlyStopping(monitor='val_accuracy', patience=3),\n",
        "                  tf.keras.callbacks.ModelCheckpoint(\n",
        "                      'models/model_{val_accuracy:.3f}.h5',\n",
        "                      save_best_only= True, save_weights_only = False,\n",
        "                      monitor ='val_accuracy'\n",
        "                  )\n",
        "                  ]\n",
        " )"
      ],
      "execution_count": null,
      "outputs": [
        {
          "output_type": "error",
          "ename": "NameError",
          "evalue": "ignored",
          "traceback": [
            "\u001b[0;31m---------------------------------------------------------------------------\u001b[0m",
            "\u001b[0;31mNameError\u001b[0m                                 Traceback (most recent call last)",
            "\u001b[0;32m<ipython-input-4-d9beef8c9b82>\u001b[0m in \u001b[0;36m<module>\u001b[0;34m()\u001b[0m\n\u001b[1;32m      9\u001b[0m \u001b[0;34m(\u001b[0m\u001b[0mx_train\u001b[0m\u001b[0;34m,\u001b[0m \u001b[0my_train\u001b[0m\u001b[0;34m)\u001b[0m\u001b[0;34m,\u001b[0m \u001b[0;34m(\u001b[0m\u001b[0mx_test\u001b[0m\u001b[0;34m,\u001b[0m \u001b[0my_test\u001b[0m\u001b[0;34m)\u001b[0m \u001b[0;34m=\u001b[0m \u001b[0mtf\u001b[0m\u001b[0;34m.\u001b[0m\u001b[0mkeras\u001b[0m\u001b[0;34m.\u001b[0m\u001b[0mdatasets\u001b[0m\u001b[0;34m.\u001b[0m\u001b[0mcifar10\u001b[0m\u001b[0;34m.\u001b[0m\u001b[0mload_data\u001b[0m\u001b[0;34m(\u001b[0m\u001b[0;34m)\u001b[0m\u001b[0;34m\u001b[0m\u001b[0;34m\u001b[0m\u001b[0m\n\u001b[1;32m     10\u001b[0m \u001b[0;34m\u001b[0m\u001b[0m\n\u001b[0;32m---> 11\u001b[0;31m h = model.fit(\n\u001b[0m\u001b[1;32m     12\u001b[0m     \u001b[0mx_train\u001b[0m\u001b[0;34m/\u001b[0m\u001b[0;36m255.\u001b[0m\u001b[0;34m,\u001b[0m \u001b[0my_train\u001b[0m\u001b[0;34m,\u001b[0m\u001b[0;34m\u001b[0m\u001b[0;34m\u001b[0m\u001b[0m\n\u001b[1;32m     13\u001b[0m     \u001b[0mvalidation_data\u001b[0m \u001b[0;34m=\u001b[0m \u001b[0;34m(\u001b[0m\u001b[0mx_test\u001b[0m\u001b[0;34m/\u001b[0m\u001b[0;36m255.\u001b[0m\u001b[0;34m,\u001b[0m \u001b[0my_test\u001b[0m\u001b[0;34m)\u001b[0m\u001b[0;34m,\u001b[0m\u001b[0;34m\u001b[0m\u001b[0;34m\u001b[0m\u001b[0m\n",
            "\u001b[0;31mNameError\u001b[0m: name 'model' is not defined"
          ]
        }
      ]
    }
  ]
}