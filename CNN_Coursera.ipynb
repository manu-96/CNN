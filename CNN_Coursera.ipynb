{
  "nbformat": 4,
  "nbformat_minor": 0,
  "metadata": {
    "colab": {
      "name": "CNN Coursera",
      "provenance": [],
      "collapsed_sections": [],
      "include_colab_link": true
    },
    "kernelspec": {
      "name": "python3",
      "display_name": "Python 3"
    }
  },
  "cells": [
    {
      "cell_type": "markdown",
      "metadata": {
        "id": "view-in-github",
        "colab_type": "text"
      },
      "source": [
        "<a href=\"https://colab.research.google.com/github/manu-96/CNN/blob/main/CNN_Coursera.ipynb\" target=\"_parent\"><img src=\"https://colab.research.google.com/assets/colab-badge.svg\" alt=\"Open In Colab\"/></a>"
      ]
    },
    {
      "cell_type": "code",
      "metadata": {
        "id": "uWqQjLvwfU9S"
      },
      "source": [
        "import tensorflow as tf\n",
        "import os\n",
        "import numpy as np\n",
        "\n",
        "from matplotlib import pyplot as plt\n",
        "%matplotlib inline\n",
        "\n",
        "if not os.path.isdir('models'):\n",
        "    os.mkdir('models')\n",
        "    \n",
        "print('TensorFlow version:', tf.__version__)\n",
        "print('Is using GPU?', tf.test.is_gpu_available())"
      ],
      "execution_count": null,
      "outputs": []
    },
    {
      "cell_type": "markdown",
      "metadata": {
        "id": "VTZkg4mwf6Fa"
      },
      "source": [
        "**2 PROCESS DATA**\n"
      ]
    },
    {
      "cell_type": "markdown",
      "metadata": {
        "id": "-mxMDrJ2fQKq"
      },
      "source": [
        " **visualize examples**"
      ]
    },
    {
      "cell_type": "code",
      "metadata": {
        "id": "dxYjGnkNgGa9"
      },
      "source": [
        "import tensorflow as tf\n",
        "import os\n",
        "import numpy as np\n",
        "\n",
        "from matplotlib import pyplot as plt\n",
        "%matplotlib inline\n",
        "\n",
        "def get_three_classes(x, y):\n",
        "    indices_0, _ = np.where(y == 0.)\n",
        "    indices_1, _ = np.where(y == 1.)\n",
        "    indices_2, _ = np.where(y == 2.)\n",
        "\n",
        "    indices = np.concatenate([indices_0, indices_1, indices_2], axis=0)\n",
        "    \n",
        "    x = x[indices]\n",
        "    y = y[indices]\n",
        "    \n",
        "    count = x.shape[0]\n",
        "    indices = np.random.choice(range(count), count, replace=False)\n",
        "    \n",
        "    x = x[indices]\n",
        "    y = y[indices]\n",
        "    \n",
        "    y = tf.keras.utils.to_categorical(y)\n",
        "    \n",
        "    return x, y"
      ],
      "execution_count": 2,
      "outputs": []
    },
    {
      "cell_type": "code",
      "metadata": {
        "id": "gADwFCRo9pNR",
        "outputId": "80c9df9a-7ad5-485c-8fc2-1673f22e2200",
        "colab": {
          "base_uri": "https://localhost:8080/",
          "height": 51
        }
      },
      "source": [
        "(x_train, y_train), (x_test, y_test) = tf.keras.datasets.cifar10.load_data()\n",
        "\n",
        "x_train, y_train = get_three_classes(x_train, y_train)\n",
        "\n",
        "x_test, y_test = get_three_classes(x_test, y_test)\n",
        "\n",
        "\n",
        "print(x_train.shape, y_train.shape)\n",
        "\n",
        "print(x_test.shape, y_test.shape)"
      ],
      "execution_count": 3,
      "outputs": [
        {
          "output_type": "stream",
          "text": [
            "(15000, 32, 32, 3) (15000, 3)\n",
            "(3000, 32, 32, 3) (3000, 3)\n"
          ],
          "name": "stdout"
        }
      ]
    },
    {
      "cell_type": "code",
      "metadata": {
        "id": "12Nng3C4zSsg",
        "outputId": "7f0ee374-a515-486b-ebb9-f1b5de850247",
        "colab": {
          "base_uri": "https://localhost:8080/",
          "height": 323
        }
      },
      "source": [
        "import tensorflow as tf\n",
        "import os\n",
        "import numpy as np\n",
        "\n",
        "from matplotlib import pyplot as plt\n",
        "%matplotlib inline\n",
        "\n",
        "(x_train, y_train), (x_test, y_test) = tf.keras.datasets.cifar10.load_data()\n",
        "\n",
        "print(x_train.shape, y_train.shape)\n",
        "\n",
        "print(x_test.shape, y_test.shape)\n",
        "\n",
        "\n",
        "class_names = ['aeroplane', 'car' , 'bird']\n",
        "def show_random_examples(x, y, p):\n",
        "  indices = np.random.choice(range(x.shape[0]), 10, replace = False)\n",
        "\n",
        "  x = x[indices]\n",
        "  y = y[indices]\n",
        "  p = p[indices] \n",
        "\n",
        "  plt.figure(figsize = (10, 5))\n",
        "  for i in range (10):\n",
        "    plt.subplot(2, 5, 1 + i)\n",
        "    plt.imshow(x[i])\n",
        "    plt.xticks([])\n",
        "    plt.yticks([])\n",
        "    col = 'green' if np.argmax(y[i]) == np.argmax(p[i]) else 'red'\n",
        "    plt.xlabel(class_names[np.argmax(p[i])], color = col)\n",
        "  plt.show()\n",
        "\n",
        "\n",
        "show_random_examples(x_train, y_train, y_train)    \n"
      ],
      "execution_count": 4,
      "outputs": [
        {
          "output_type": "stream",
          "text": [
            "(50000, 32, 32, 3) (50000, 1)\n",
            "(10000, 32, 32, 3) (10000, 1)\n"
          ],
          "name": "stdout"
        },
        {
          "output_type": "display_data",
          "data": {
            "image/png": "[encoded data removed]",
            "text/plain": [
              "<Figure size 720x360 with 10 Axes>"
            ]
          },
          "metadata": {
            "tags": []
          }
        }
      ]
    },
    {
      "cell_type": "markdown",
      "metadata": {
        "id": "xY75SG4gfaPi"
      },
      "source": [
        "**CREATE MODEL**"
      ]
    },
    {
      "cell_type": "code",
      "metadata": {
        "id": "q6-8RGcmfhQB",
        "outputId": "f35ad49b-0a95-4bff-965b-118ce5110113",
        "colab": {
          "base_uri": "https://localhost:8080/",
          "height": 731
        }
      },
      "source": [
        "import tensorflow as tf\n",
        "import os\n",
        "import numpy as np\n",
        "\n",
        "from matplotlib import pyplot as plt\n",
        "%matplotlib inline\n",
        "\n",
        "from tensorflow.keras.layers import Conv2D, MaxPooling2D, BatchNormalization\n",
        "from tensorflow.keras.layers import Dropout, Flatten, Dense, Input\n",
        "\n",
        "def create_model():\n",
        "  def add_conv_block(model, num_filters):\n",
        "    model.add(Conv2D(num_filters, 3, activation='relu', padding='same'))\n",
        "    model.add(BatchNormalization())\n",
        "    model.add(Conv2D(num_filters, 3, activation='relu'))\n",
        "    model.add(MaxPooling2D(pool_size=2))\n",
        "    model.add(Dropout(0.5))\n",
        "    return model\n",
        "\n",
        "  model = tf.keras.models.Sequential()\n",
        "  model.add(Input(shape = (32, 32, 3)))\n",
        "  model = add_conv_block(model, 32)\n",
        "  model = add_conv_block(model, 64)\n",
        "  model = add_conv_block(model, 128)\n",
        "  model.add(Flatten())\n",
        "  model.add(Dense(3, activation = 'softmax'))\n",
        "  model.compile(\n",
        "      loss = 'categorical_crossentropy',\n",
        "      optimizer = 'adam', metrics = ['accuracy']\n",
        "  )  \n",
        "\n",
        "  return model\n",
        "\n",
        "model = create_model()\n",
        "model.summary()  \n",
        "\n",
        "\n",
        "\n"
      ],
      "execution_count": 6,
      "outputs": [
        {
          "output_type": "stream",
          "text": [
            "Model: \"sequential\"\n",
            "_________________________________________________________________\n",
            "Layer (type)                 Output Shape              Param #   \n",
            "=================================================================\n",
            "conv2d (Conv2D)              (None, 32, 32, 32)        896       \n",
            "_________________________________________________________________\n",
            "batch_normalization (BatchNo (None, 32, 32, 32)        128       \n",
            "_________________________________________________________________\n",
            "conv2d_1 (Conv2D)            (None, 30, 30, 32)        9248      \n",
            "_________________________________________________________________\n",
            "max_pooling2d (MaxPooling2D) (None, 15, 15, 32)        0         \n",
            "_________________________________________________________________\n",
            "dropout (Dropout)            (None, 15, 15, 32)        0         \n",
            "_________________________________________________________________\n",
            "conv2d_2 (Conv2D)            (None, 15, 15, 64)        18496     \n",
            "_________________________________________________________________\n",
            "batch_normalization_1 (Batch (None, 15, 15, 64)        256       \n",
            "_________________________________________________________________\n",
            "conv2d_3 (Conv2D)            (None, 13, 13, 64)        36928     \n",
            "_________________________________________________________________\n",
            "max_pooling2d_1 (MaxPooling2 (None, 6, 6, 64)          0         \n",
            "_________________________________________________________________\n",
            "dropout_1 (Dropout)          (None, 6, 6, 64)          0         \n",
            "_________________________________________________________________\n",
            "conv2d_4 (Conv2D)            (None, 6, 6, 128)         73856     \n",
            "_________________________________________________________________\n",
            "batch_normalization_2 (Batch (None, 6, 6, 128)         512       \n",
            "_________________________________________________________________\n",
            "conv2d_5 (Conv2D)            (None, 4, 4, 128)         147584    \n",
            "_________________________________________________________________\n",
            "max_pooling2d_2 (MaxPooling2 (None, 2, 2, 128)         0         \n",
            "_________________________________________________________________\n",
            "dropout_2 (Dropout)          (None, 2, 2, 128)         0         \n",
            "_________________________________________________________________\n",
            "flatten (Flatten)            (None, 512)               0         \n",
            "_________________________________________________________________\n",
            "dense (Dense)                (None, 3)                 1539      \n",
            "=================================================================\n",
            "Total params: 289,443\n",
            "Trainable params: 288,995\n",
            "Non-trainable params: 448\n",
            "_________________________________________________________________\n"
          ],
          "name": "stdout"
        }
      ]
    },
    {
      "cell_type": "markdown",
      "metadata": {
        "id": "rFCHWIRWt3wX"
      },
      "source": [
        "**TRAINING**"
      ]
    },
    {
      "cell_type": "code",
      "metadata": {
        "id": "mVoabFC0t7tO",
        "outputId": "7f256146-296c-4973-b97b-030f6e6212f4",
        "colab": {
          "base_uri": "https://localhost:8080/",
          "height": 129
        }
      },
      "source": [
        "import tensorflow as tf\n",
        "import os\n",
        "import numpy as np\n",
        "\n",
        "from matplotlib import pyplot as plt\n",
        "%matplotlib inline\n",
        "\n",
        "\n",
        "(x_train, y_train), (x_test, y_test) = tf.keras.datasets.cifar10.load_data()\n",
        " \n",
        "\n",
        " #model = tf.keras.Sequential()\n",
        " def h = model.fit(x_train/255., y_train, batch_size=128, epochs=10)\n",
        "\n",
        "  h = model.fit(\n",
        "     x_train/255., y_train,\n",
        "     validation_data = (x_test/255., y_test),\n",
        "     epochs = 10, batch_size = 128,\n",
        "     callbacks = [\n",
        "                  tf.keras.callbacks.EarlyStopping(monitor='val_accuracy', patience=3),\n",
        "                  tf.keras.callbacks.ModelCheckpoint(\n",
        "                      'models/model_(val_accuracy:.3f).h5',\n",
        "                      save_best_only= True, save_weights_only = False,\n",
        "                      monitor ='val_accuracy'\n",
        "                  )\n",
        "                  ]\n",
        " )"
      ],
      "execution_count": 8,
      "outputs": [
        {
          "output_type": "error",
          "ename": "IndentationError",
          "evalue": "ignored",
          "traceback": [
            "\u001b[0;36m  File \u001b[0;32m\"<ipython-input-8-aefef1bf0e91>\"\u001b[0;36m, line \u001b[0;32m13\u001b[0m\n\u001b[0;31m    def h = model.fit(x_train/255., y_train, batch_size=128, epochs=10)\u001b[0m\n\u001b[0m    ^\u001b[0m\n\u001b[0;31mIndentationError\u001b[0m\u001b[0;31m:\u001b[0m unexpected indent\n"
          ]
        }
      ]
    },
    {
      "cell_type": "markdown",
      "metadata": {
        "id": "hFtyznXhlTvw"
      },
      "source": [
        "**FINAL PREDICTION**"
      ]
    },
    {
      "cell_type": "code",
      "metadata": {
        "id": "9fFQUiO5la6B",
        "outputId": "607e82de-5a22-4525-bf55-28f614e897e9",
        "colab": {
          "base_uri": "https://localhost:8080/",
          "height": 129
        }
      },
      "source": [
        "import tensorflow as tf\n",
        "import os\n",
        "import numpy as np\n",
        "\n",
        "from matplotlib import pyplot as plt\n",
        "%matplotlib inline\n",
        "\n",
        "\n",
        "(x_train, y_train), (x_test, y_test) = tf.keras.datasets.cifar10.load_data()\n",
        "\n",
        "\n",
        "def h = model.fit(x_train/255., y_train, batch_size=128, epochs=10)  \n",
        "\n",
        "\n",
        "accs = h.history['accuracy']\n",
        "val_accs = h.history['val_accuracy']\n",
        "\n",
        "\n",
        "plt.plot(range(len(accs)), accs, label='training')\n",
        "plt.plot(range(len(accs)), val_accs, label = 'validation')\n",
        "plt.legend\n",
        "plt.show"
      ],
      "execution_count": 10,
      "outputs": [
        {
          "output_type": "error",
          "ename": "SyntaxError",
          "evalue": "ignored",
          "traceback": [
            "\u001b[0;36m  File \u001b[0;32m\"<ipython-input-10-89492bc13372>\"\u001b[0;36m, line \u001b[0;32m12\u001b[0m\n\u001b[0;31m    def h = model.fit(x_train/255., y_train, batch_size=128, epochs=10)\u001b[0m\n\u001b[0m          ^\u001b[0m\n\u001b[0;31mSyntaxError\u001b[0m\u001b[0;31m:\u001b[0m invalid syntax\n"
          ]
        }
      ]
    }
  ]
}